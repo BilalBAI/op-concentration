{
 "cells": [
  {
   "cell_type": "code",
   "execution_count": null,
   "metadata": {},
   "outputs": [],
   "source": [
    "import numpy as np\n",
    "import pandas as pd\n",
    "import requests\n"
   ]
  },
  {
   "cell_type": "code",
   "execution_count": 34,
   "metadata": {},
   "outputs": [
    {
     "name": "stderr",
     "output_type": "stream",
     "text": [
      "/var/folders/db/bjx_3t8n2d73cp93pby9k97r0000gn/T/ipykernel_27113/4031484080.py:3: DtypeWarning: Columns (8) have mixed types. Specify dtype option on import or set low_memory=False.\n",
      "  df_proposals_votes = pd.read_csv(\"./raw_data/2024-07-01_optimism_proposals_votes.csv\")\n"
     ]
    }
   ],
   "source": [
    "# read data\n",
    "df_proposals_votes = pd.read_csv(\"./raw_data/2024-07-01_optimism_proposals_votes.csv\")\n",
    "# unify proposal_id to hexdecimal\n",
    "df_proposals_votes.proposal_id = df_proposals_votes.proposal_id.apply(lambda x: str(hex(int(x[18:]))) if 'Proposal|Proposal|' in x else x)\n",
    "# fill na otherwise groupby will drop rows\n",
    "df_proposals_votes = df_proposals_votes.fillna('N/A')"
   ]
  },
  {
   "cell_type": "code",
   "execution_count": 44,
   "metadata": {},
   "outputs": [],
   "source": [
    "\n",
    "# df_summary = df_proposals_votes[['vote_type','proposal_id','title','voted_choice','voting_power']].copy()\n",
    "\n",
    "# # df_summary.loc[df_summary['vote_type']=='OFF_CHAIN','voting_power'] = 1\n",
    "\n",
    "# # df_summary.vote_type = df_summary.vote_type.map({'OFF_CHAIN':'citizen_house','ON_CHAIN':'token_house'})\n",
    "\n",
    "# df_summary = df_summary.groupby(['vote_type','proposal_id','title','voted_choice'],as_index=False).sum()\n",
    "\n",
    "# df_summary = df_summary.sort_values(by=['proposal_id', 'voting_power'],ascending=[True,False])\n",
    "\n",
    "# df_summary = df_summary.reset_index(drop=True)\n"
   ]
  },
  {
   "cell_type": "markdown",
   "metadata": {},
   "source": [
    "# Token House Votes"
   ]
  },
  {
   "cell_type": "code",
   "execution_count": 2,
   "metadata": {},
   "outputs": [],
   "source": [
    "# df_Top1000Delegates = pd.read_csv(\"./Top1000Delegates.csv\")\n",
    "# df_vote_cast = pd.read_csv(\"./vote_cast.csv\")\n",
    "# df_proposals = pd.read_csv(\"./proposals.csv\")"
   ]
  },
  {
   "cell_type": "code",
   "execution_count": 50,
   "metadata": {},
   "outputs": [],
   "source": [
    "df_onchain = df_proposals_votes.query('vote_type == \"ON_CHAIN\"').reset_index(drop=True)\n",
    "\n",
    "# Step 1: Sort the DataFrame by 'proposal_id' and 'voting_power' in descending order\n",
    "df_sorted = df_onchain.sort_values(by=['proposal_id', 'voting_power'], ascending=[True, False])\n",
    "\n",
    "# Step 2: Group by 'proposal_id' and select the top 200 for each group\n",
    "df_top_200_onchain = df_sorted.groupby('proposal_id').head(200).reset_index(drop=True)\n"
   ]
  },
  {
   "cell_type": "code",
   "execution_count": 154,
   "metadata": {},
   "outputs": [],
   "source": [
    "df_top_200_onchain.to_csv(\"./token_house_proposals_votes.csv\")"
   ]
  },
  {
   "cell_type": "markdown",
   "metadata": {},
   "source": [
    "# Citizen House Votes"
   ]
  },
  {
   "cell_type": "code",
   "execution_count": 50,
   "metadata": {},
   "outputs": [],
   "source": [
    "# df_offchain = df_proposals_votes.query('vote_type == \"OFF_CHAIN\"').reset_index(drop=True)\n",
    "\n",
    "# # Step 1: Sort the DataFrame by 'proposal_id' and 'voting_power' in descending order\n",
    "# df_sorted = df_offchain.sort_values(by=['proposal_id', 'voting_power'], ascending=[True, False])\n",
    "\n",
    "# # Step 2: Group by 'proposal_id' and select the top 200 for each group\n",
    "# df_top_200_offchain = df_sorted.groupby('proposal_id').head(200).reset_index(drop=True)\n",
    "# # df_top_200_offchain.to_csv('./citizen_house_proposals_votes.csv')\n"
   ]
  },
  {
   "cell_type": "code",
   "execution_count": 1,
   "metadata": {},
   "outputs": [],
   "source": [
    "import requests\n",
    "import pandas as pd\n",
    "\n",
    "# df_citizen_snapshot_proposal = pd.read_json('citizen_snapshot_proposals.json')\n",
    "\n",
    "url = \"https://hub.snapshot.org/graphql?operationName=Proposals&query=query%20Proposals%20%7B%0A%20%20proposals%20(%0A%20%20%20%20first%3A%20100%2C%0A%20%20%20%20skip%3A%200%2C%0A%20%20%20%20where%3A%20%7B%0A%20%20%20%20%20%20space_in%3A%20%5B%22citizenshouse.eth%22%5D%2C%0A%20%20%20%20%20%20state%3A%20%22closed%22%0A%20%20%20%20%7D%2C%0A%20%20%20%20orderBy%3A%20%22created%22%2C%0A%20%20%20%20orderDirection%3A%20desc%0A%20%20)%20%7B%0A%20%20%20%20id%0A%20%20%20%20title%0A%20%20%20%20body%0A%20%20%20%20choices%0A%20%20%20%20start%0A%20%20%20%20end%0A%20%20%20%20snapshot%0A%20%20%20%20state%0A%20%20%20%20author%0A%20%20%20%20space%20%7B%0A%20%20%20%20%20%20id%0A%20%20%20%20%20%20name%0A%20%20%20%20%7D%0A%20%20%7D%0A%7D\"\n",
    "response = requests.get(url)\n",
    "df_citizen_snapshot_proposal=pd.DataFrame(response.json()['data']['proposals'])\n",
    "df_citizen_snapshot_proposal=df_citizen_snapshot_proposal.rename(columns={'id':'proposal_id'})\n"
   ]
  },
  {
   "cell_type": "code",
   "execution_count": 6,
   "metadata": {},
   "outputs": [],
   "source": [
    "df_citizen_snapshot_proposal_votes = pd.DataFrame()\n",
    "\n",
    "for id in df_citizen_snapshot_proposal.proposal_id.to_list():\n",
    "    url = f\"https://hub.snapshot.org/graphql?operationName=Votes&query=query%20Votes%20%7B%0A%20%20votes%20(%0A%20%20%20%20first%3A%201000%0A%20%20%20%20skip%3A%200%0A%20%20%20%20where%3A%20%7B%0A%20%20%20%20%20%20proposal%3A%20%22{id}%22%0A%20%20%20%20%7D%0A%20%20%20%20orderBy%3A%20%22created%22%2C%0A%20%20%20%20orderDirection%3A%20desc%0A%20%20)%20%7B%0A%20%20%20%20id%0A%20%20%20%20voter%0A%20%20%20%20created%0A%20%20%20%20proposal%20%7B%0A%20%20%20%20%20%20id%0A%20%20%20%20%7D%0A%20%20%20%20choice%0A%20%20%20%20space%20%7B%0A%20%20%20%20%20%20id%0A%20%20%20%20%7D%0A%20%20%7D%0A%7D%0A\"\n",
    "    response = requests.get(url)\n",
    "    temp = response.json()['data']['votes']\n",
    "    for t in range(len(temp)):\n",
    "        temp[t]['proposal_id'] = temp[t]['proposal']['id']\n",
    "        temp[t]['space_id'] = temp[t]['space']['id']\n",
    "    temp_df = pd.DataFrame(temp)\n",
    "    df_citizen_snapshot_proposal_votes = pd.concat([df_citizen_snapshot_proposal_votes,temp_df])\n",
    "\n",
    "df_citizen_snapshot_proposal_votes = pd.merge(df_citizen_snapshot_proposal_votes,df_citizen_snapshot_proposal,how=\"left\",on='proposal_id')\n",
    "\n",
    "df_citizen_snapshot_proposal_votes['voted_choice'] = df_citizen_snapshot_proposal_votes.apply(lambda row: row['choices'][row['choice']-1], axis=1)\n",
    "df_citizen_snapshot_proposal_votes['voting_power'] = 1\n",
    "df_citizen_snapshot_proposal_votes['vote_type'] = 'citizen_house'\n",
    "df_citizen_snapshot_proposal_votes = df_citizen_snapshot_proposal_votes.rename(columns={'voter':'address'})\n",
    "df_citizen_snapshot_proposal_votes['address'] = df_citizen_snapshot_proposal_votes['address'].str.lower()\n"
   ]
  },
  {
   "cell_type": "code",
   "execution_count": 57,
   "metadata": {},
   "outputs": [],
   "source": [
    "df_citizen_snapshot_proposal_votes.to_csv('./citizen_house_proposals_votes2.csv')"
   ]
  },
  {
   "cell_type": "code",
   "execution_count": 59,
   "metadata": {},
   "outputs": [
    {
     "data": {
      "text/plain": [
       "array(['0x00409fc839a2ec2e6d12305423d37cd011279c09',\n",
       "       '0x0331969e189d63fbc31d771bb04ab44227d748d8',\n",
       "       '0x1de2a056508e0d0dd88a88f1f5cdf9cfa510795c',\n",
       "       '0x2b888954421b424c5d3d9ce9bb67c9bd47537d12',\n",
       "       '0x3db5b38ef4b433d9c6a664bd35551be73313189a',\n",
       "       '0x429f9ada43e9f345cbb85ec88681bb70df808892',\n",
       "       '0x45a10f35befa4ab841c77860204b133118b7ccae',\n",
       "       '0x48a63097e1ac123b1f5a8bbffafa4afa8192fab0',\n",
       "       '0x585639fbf797c1258eba8875c080eb63c833d252',\n",
       "       '0x5d36a202687fd6bd0f670545334bf0b4827cc1e2',\n",
       "       '0x66946def4ba6153c500d743b7a5febfc1654d6bd',\n",
       "       '0x69dc230b06a15796e3f42baf706e0e55d4d5eaa1',\n",
       "       '0x69e271483c38ed4902a55c3ea8aab9e7cc8617e5',\n",
       "       '0x6eda5acaff7f5964e1ecc3fd61c62570c186ca0c',\n",
       "       '0x75536cf4f01c2bfa528f5c74ddc1232db3af3ee5',\n",
       "       '0x7899d9b1181cbb427b0b1be0684c096c260f7474',\n",
       "       '0x7fc80fad32ec41fd5cfcc14eee9c31953b6b4a8b',\n",
       "       '0x839395e20bbb182fa440d08f850e6c7a8f6f0780',\n",
       "       '0x8f07bc36ff569312fdc41f3867d80bbd2fe94b76',\n",
       "       '0x9194efdf03174a804f3552f4f7b7a4bb74badb7f',\n",
       "       '0x94db037207f6fb697dbd33524aadffd108819dc8',\n",
       "       '0x9934465ee73beaf148b1b3ff232c8cd86c4c2c63',\n",
       "       '0xc2e2b715d9e302947ec7e312fd2384b5a1296099',\n",
       "       '0xdb5781a835b60110298ff7205d8ef9678ff1f800',\n",
       "       '0xdcf7be2ff93e1a7671724598b1526f3a33b1ec25',\n",
       "       '0xf4b0556b9b6f53e00a1fdd2b0478ce841991d8fa',\n",
       "       '0xf68d2bfcecd7895bba05a7451dd09a1749026454'], dtype=object)"
      ]
     },
     "execution_count": 59,
     "metadata": {},
     "output_type": "execute_result"
    }
   ],
   "source": [
    "\n",
    "np.intersect1d(df_citizen_snapshot_proposal_votes.address.values, \n",
    "                              df_top_200_onchain.address.values)"
   ]
  },
  {
   "cell_type": "markdown",
   "metadata": {},
   "source": [
    "# Token + Citizen House Summary"
   ]
  },
  {
   "cell_type": "code",
   "execution_count": 41,
   "metadata": {},
   "outputs": [],
   "source": [
    "df_summary = df_proposals_votes[['vote_type','proposal_id','title','voted_choice','voting_power']].copy()\n",
    "df_summary = df_summary[df_summary['vote_type']=='OFF_CHAIN']\n",
    "df_summary['vote_type'] = 'token_house'\n",
    "\n",
    "df_summary = pd.concat([df_summary, df_citizen_snapshot_proposal_votes[['vote_type','proposal_id','title','voted_choice','voting_power']]], ignore_index=True)\n",
    "\n",
    "df_summary = df_summary.groupby(['vote_type','proposal_id','title','voted_choice'],as_index=False).sum()\n",
    "\n",
    "df_summary = df_summary.sort_values(by=['vote_type','proposal_id', 'voting_power'],ascending=[True,True,False])\n",
    "\n",
    "df_summary = df_summary.reset_index(drop=True)"
   ]
  },
  {
   "cell_type": "code",
   "execution_count": 44,
   "metadata": {},
   "outputs": [],
   "source": [
    "df_summary.to_csv('./voting_results_summary.csv')\n"
   ]
  },
  {
   "cell_type": "markdown",
   "metadata": {},
   "source": [
    "# Farcaster"
   ]
  },
  {
   "cell_type": "code",
   "execution_count": 94,
   "metadata": {},
   "outputs": [],
   "source": [
    "addresses = df_top_200_onchain.address.to_list()"
   ]
  },
  {
   "cell_type": "code",
   "execution_count": null,
   "metadata": {},
   "outputs": [],
   "source": [
    "import requests\n",
    "\n",
    "# Replace with your actual Farcaster API base URL\n",
    "BASE_URL = \"https://hub.pinata.cloud/v1/\"\n",
    "\n",
    "# List of Ethereum addresses to check\n",
    "# addresses = [\n",
    "#     \"0xd8dA6BF26964aF9D7eEd9e03E53415D37aA96045\",\n",
    "#     \"0x5e349eca2dc61abcd9dd99ce94d04136151a09ee\",\n",
    "#     # Add more addresses as needed\n",
    "# ]\n",
    "\n",
    "# Function to get Farcaster FID from Ethereum address\n",
    "def get_farcaster_fid(address):\n",
    "    response = requests.get(f\"{BASE_URL}/verificationsByAddress\", params={\"address\": address})\n",
    "    if response.status_code == 200:\n",
    "        data = response.json()\n",
    "        if data.get(\"verifications\"):\n",
    "            return data[\"verifications\"][0][\"fid\"]\n",
    "    return None\n",
    "\n",
    "# Function to get followers of a Farcaster account\n",
    "def get_followers(fid):\n",
    "    response = requests.get(f\"{BASE_URL}/linksByFid\", params={\"fid\": fid, \"link_type\": \"follow\"})\n",
    "    if response.status_code == 200:\n",
    "        data = response.json()\n",
    "        return [msg[\"data\"][\"linkBody\"][\"targetFid\"] for msg in data.get(\"messages\", [])]\n",
    "    return []\n",
    "\n",
    "# Function to get followings of a Farcaster account\n",
    "def get_followings(fid):\n",
    "    response = requests.get(f\"{BASE_URL}/linksByTargetFid\", params={\"target_fid\": fid, \"link_type\": \"follow\"})\n",
    "    if response.status_code == 200:\n",
    "        data = response.json()\n",
    "        return [msg[\"data\"][\"fid\"] for msg in data.get(\"messages\", [])]\n",
    "    return []\n",
    "\n",
    "# Main script\n",
    "farcaster_accounts = {}\n",
    "\n",
    "for address in addresses:\n",
    "    fid = get_farcaster_fid(address)\n",
    "    if fid:\n",
    "        farcaster_accounts[address] = {\n",
    "            \"fid\": fid,\n",
    "            \"followers\": get_followers(fid),\n",
    "            \"followings\": get_followings(fid)\n",
    "        }\n",
    "    else:\n",
    "        farcaster_accounts[address] = None\n",
    "\n",
    "# Print results\n",
    "for address, data in farcaster_accounts.items():\n",
    "    if data:\n",
    "        print(f\"Address: {address} (FID: {data['fid']})\")\n",
    "        print(f\"Followers FIDs: {data['followers']}\")\n",
    "        print(f\"Followings FIDs: {data['followings']}\")\n",
    "    else:\n",
    "        print(f\"Address: {address} has no Farcaster account.\")\n"
   ]
  },
  {
   "cell_type": "code",
   "execution_count": 98,
   "metadata": {},
   "outputs": [],
   "source": [
    "for address, data in farcaster_accounts.items():\n",
    "    if data:\n",
    "        print(f\"Address: {address} (FID: {data['fid']})\")\n",
    "        print(f\"Followers FIDs: {data['followers']}\")\n",
    "        print(f\"Followings FIDs: {data['followings']}\")\n",
    "    # else:\n",
    "    #     print(f\"Address: {address} has no Farcaster account.\")"
   ]
  },
  {
   "cell_type": "code",
   "execution_count": null,
   "metadata": {},
   "outputs": [],
   "source": [
    "# https://crimson-tiny-urial-232.mypinata.cloud\n",
    "# curl --request GET \\\n",
    "#   --url 'https://hub.pinata.cloud/v1/castsByFid?fid=6023&pageSize=10&reverse=true'\n"
   ]
  }
 ],
 "metadata": {
  "kernelspec": {
   "display_name": "op_concen",
   "language": "python",
   "name": "python3"
  },
  "language_info": {
   "codemirror_mode": {
    "name": "ipython",
    "version": 3
   },
   "file_extension": ".py",
   "mimetype": "text/x-python",
   "name": "python",
   "nbconvert_exporter": "python",
   "pygments_lexer": "ipython3",
   "version": "3.12.3"
  }
 },
 "nbformat": 4,
 "nbformat_minor": 2
}
