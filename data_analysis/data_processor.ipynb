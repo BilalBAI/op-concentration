{
 "cells": [
  {
   "cell_type": "markdown",
   "metadata": {},
   "source": [
    "# Token House Votes"
   ]
  },
  {
   "cell_type": "code",
   "execution_count": null,
   "metadata": {},
   "outputs": [],
   "source": [
    "import pandas as pd"
   ]
  },
  {
   "cell_type": "code",
   "execution_count": 2,
   "metadata": {},
   "outputs": [],
   "source": [
    "df_Top1000Delegates = pd.read_csv(\"./Top1000Delegates.csv\")\n",
    "df_vote_cast = pd.read_csv(\"./vote_cast.csv\")\n",
    "df_proposals = pd.read_csv(\"./proposals.csv\")"
   ]
  },
  {
   "cell_type": "code",
   "execution_count": null,
   "metadata": {},
   "outputs": [],
   "source": [
    "df_proposals_votes = pd.read_csv(\"./raw_data/2024-06-28_optimism_proposals_votes.csv\")"
   ]
  },
  {
   "cell_type": "code",
   "execution_count": 15,
   "metadata": {},
   "outputs": [],
   "source": [
    "df_onchain = df_proposals_votes.query('vote_type == \"ON_CHAIN\"').reset_index(drop=True)\n",
    "\n",
    "# Step 1: Sort the DataFrame by 'proposal_id' and 'voting_power' in descending order\n",
    "df_sorted = df_onchain.sort_values(by=['proposal_id', 'voting_power'], ascending=[True, False])\n",
    "\n",
    "# Step 2: Group by 'proposal_id' and select the top 200 for each group\n",
    "df_top_200 = df_sorted.groupby('proposal_id').head(200).reset_index(drop=True)\n",
    "\n",
    "df_top_200['reason'] = df_top_200['reason'].fillna('NA')"
   ]
  },
  {
   "cell_type": "code",
   "execution_count": 21,
   "metadata": {},
   "outputs": [],
   "source": [
    "df_top_200.to_csv(\"./proposals_votes.csv\")"
   ]
  },
  {
   "cell_type": "markdown",
   "metadata": {},
   "source": [
    "# Citizen House Votes"
   ]
  },
  {
   "cell_type": "code",
   "execution_count": 61,
   "metadata": {},
   "outputs": [],
   "source": [
    "df_citizen_snapshot_proposal = pd.read_json('citizen_snapshot_proposals.json')\n",
    "df_citizen_snapshot_proposal=df_citizen_snapshot_proposal.rename(columns={'id':'proposal_id'})"
   ]
  },
  {
   "cell_type": "code",
   "execution_count": 63,
   "metadata": {},
   "outputs": [],
   "source": [
    "import requests\n",
    "\n",
    "df_citizen_snapshot_proposal_votes = pd.DataFrame()\n",
    "\n",
    "for id in df_citizen_snapshot_proposal.proposal_id.to_list():\n",
    "    url = f\"https://hub.snapshot.org/graphql?operationName=Votes&query=query%20Votes%20%7B%0A%20%20votes%20(%0A%20%20%20%20first%3A%201000%0A%20%20%20%20skip%3A%200%0A%20%20%20%20where%3A%20%7B%0A%20%20%20%20%20%20proposal%3A%20%22{id}%22%0A%20%20%20%20%7D%0A%20%20%20%20orderBy%3A%20%22created%22%2C%0A%20%20%20%20orderDirection%3A%20desc%0A%20%20)%20%7B%0A%20%20%20%20id%0A%20%20%20%20voter%0A%20%20%20%20created%0A%20%20%20%20proposal%20%7B%0A%20%20%20%20%20%20id%0A%20%20%20%20%7D%0A%20%20%20%20choice%0A%20%20%20%20space%20%7B%0A%20%20%20%20%20%20id%0A%20%20%20%20%7D%0A%20%20%7D%0A%7D%0A\"\n",
    "    response = requests.get(url)\n",
    "    temp = response.json()['data']['votes']\n",
    "    for t in range(len(temp)):\n",
    "        temp[t]['proposal_id'] = temp[t]['proposal']['id']\n",
    "        temp[t]['space_id'] = temp[t]['space']['id']\n",
    "    temp_df = pd.DataFrame(temp)\n",
    "    df_citizen_snapshot_proposal_votes = pd.concat([df_citizen_snapshot_proposal_votes,temp_df])"
   ]
  },
  {
   "cell_type": "code",
   "execution_count": 65,
   "metadata": {},
   "outputs": [],
   "source": [
    "\n",
    "df_citizen_snapshot_proposal_votes = pd.merge(df_citizen_snapshot_proposal_votes,df_citizen_snapshot_proposal,how=\"left\",on='proposal_id')"
   ]
  },
  {
   "cell_type": "code",
   "execution_count": 66,
   "metadata": {},
   "outputs": [],
   "source": [
    "df_citizen_snapshot_proposal_votes.to_csv('./citizen_snapshot_proposal_votes.csv')"
   ]
  },
  {
   "cell_type": "code",
   "execution_count": 41,
   "metadata": {},
   "outputs": [
    {
     "data": {
      "text/plain": [
       "0     0xff9fcfd224f44cdcb6e8118cc5909e1376044d4e2640...\n",
       "1     0x14336dfcb086279e47ef8fffbd6282984d392f1b9eaf...\n",
       "2     0xcbf088e409279ca2e1dbe78f513067dd20caa4d2d248...\n",
       "3     0x21f7126c1636cecdcf7522eadbf6e1b20ca22a2230fa...\n",
       "4     0xe2d86afceea73f2e2734550bec73af395b78826413fb...\n",
       "5     0x3c45ddb959dcab99231e29cafad668e58c99040b5c64...\n",
       "6     0x2bc6565053b73813c6b0a001c8c07eb5656234b4d8ba...\n",
       "7     0x8c157e9d2718a572626ad8443c494fae5986bd467dcc...\n",
       "8     0x9e85524badfcec19856bfc51cfefc78cb5f36a9b77ec...\n",
       "9     0x6efd678a37dd547f40956fb613047ffc077c234b7723...\n",
       "10    0x1552e2685f2f4560d9af1f69cba056d5a3e5b78ee356...\n",
       "Name: id, dtype: object"
      ]
     },
     "execution_count": 41,
     "metadata": {},
     "output_type": "execute_result"
    }
   ],
   "source": [
    "df_citizen_snapshot_proposal.id"
   ]
  }
 ],
 "metadata": {
  "kernelspec": {
   "display_name": "op_concen",
   "language": "python",
   "name": "python3"
  },
  "language_info": {
   "codemirror_mode": {
    "name": "ipython",
    "version": 3
   },
   "file_extension": ".py",
   "mimetype": "text/x-python",
   "name": "python",
   "nbconvert_exporter": "python",
   "pygments_lexer": "ipython3",
   "version": "3.12.3"
  }
 },
 "nbformat": 4,
 "nbformat_minor": 2
}
