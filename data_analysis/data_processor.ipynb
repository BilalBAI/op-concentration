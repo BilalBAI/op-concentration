{
 "cells": [
  {
   "cell_type": "code",
   "execution_count": 34,
   "metadata": {},
   "outputs": [
    {
     "name": "stderr",
     "output_type": "stream",
     "text": [
      "/var/folders/db/bjx_3t8n2d73cp93pby9k97r0000gn/T/ipykernel_27113/4031484080.py:3: DtypeWarning: Columns (8) have mixed types. Specify dtype option on import or set low_memory=False.\n",
      "  df_proposals_votes = pd.read_csv(\"./raw_data/2024-07-01_optimism_proposals_votes.csv\")\n"
     ]
    }
   ],
   "source": [
    "import pandas as pd\n",
    "# read data\n",
    "df_proposals_votes = pd.read_csv(\"./raw_data/2024-07-01_optimism_proposals_votes.csv\")\n",
    "# unify proposal_id to hexdecimal\n",
    "df_proposals_votes.proposal_id = df_proposals_votes.proposal_id.apply(lambda x: str(hex(int(x[18:]))) if 'Proposal|Proposal|' in x else x)\n",
    "# fill na otherwise groupby will drop rows\n",
    "df_proposals_votes = df_proposals_votes.fillna('N/A')"
   ]
  },
  {
   "cell_type": "code",
   "execution_count": 44,
   "metadata": {},
   "outputs": [],
   "source": [
    "\n",
    "# df_summary = df_proposals_votes[['vote_type','proposal_id','title','voted_choice','voting_power']].copy()\n",
    "\n",
    "# # df_summary.loc[df_summary['vote_type']=='OFF_CHAIN','voting_power'] = 1\n",
    "\n",
    "# # df_summary.vote_type = df_summary.vote_type.map({'OFF_CHAIN':'citizen_house','ON_CHAIN':'token_house'})\n",
    "\n",
    "# df_summary = df_summary.groupby(['vote_type','proposal_id','title','voted_choice'],as_index=False).sum()\n",
    "\n",
    "# df_summary = df_summary.sort_values(by=['proposal_id', 'voting_power'],ascending=[True,False])\n",
    "\n",
    "# df_summary = df_summary.reset_index(drop=True)\n"
   ]
  },
  {
   "cell_type": "code",
   "execution_count": 47,
   "metadata": {},
   "outputs": [],
   "source": []
  },
  {
   "cell_type": "markdown",
   "metadata": {},
   "source": [
    "# Token House Votes"
   ]
  },
  {
   "cell_type": "code",
   "execution_count": 2,
   "metadata": {},
   "outputs": [],
   "source": [
    "# df_Top1000Delegates = pd.read_csv(\"./Top1000Delegates.csv\")\n",
    "# df_vote_cast = pd.read_csv(\"./vote_cast.csv\")\n",
    "# df_proposals = pd.read_csv(\"./proposals.csv\")"
   ]
  },
  {
   "cell_type": "code",
   "execution_count": 153,
   "metadata": {},
   "outputs": [],
   "source": [
    "df_onchain = df_proposals_votes.query('vote_type == \"ON_CHAIN\"').reset_index(drop=True)\n",
    "\n",
    "# Step 1: Sort the DataFrame by 'proposal_id' and 'voting_power' in descending order\n",
    "df_sorted = df_onchain.sort_values(by=['proposal_id', 'voting_power'], ascending=[True, False])\n",
    "\n",
    "# Step 2: Group by 'proposal_id' and select the top 200 for each group\n",
    "df_top_200_onchain = df_sorted.groupby('proposal_id').head(200).reset_index(drop=True)\n"
   ]
  },
  {
   "cell_type": "code",
   "execution_count": 154,
   "metadata": {},
   "outputs": [],
   "source": [
    "df_top_200_onchain.to_csv(\"./token_house_proposals_votes.csv\")"
   ]
  },
  {
   "cell_type": "markdown",
   "metadata": {},
   "source": [
    "# Citizen House Votes"
   ]
  },
  {
   "cell_type": "code",
   "execution_count": 50,
   "metadata": {},
   "outputs": [],
   "source": [
    "# df_offchain = df_proposals_votes.query('vote_type == \"OFF_CHAIN\"').reset_index(drop=True)\n",
    "\n",
    "# # Step 1: Sort the DataFrame by 'proposal_id' and 'voting_power' in descending order\n",
    "# df_sorted = df_offchain.sort_values(by=['proposal_id', 'voting_power'], ascending=[True, False])\n",
    "\n",
    "# # Step 2: Group by 'proposal_id' and select the top 200 for each group\n",
    "# df_top_200_offchain = df_sorted.groupby('proposal_id').head(200).reset_index(drop=True)\n"
   ]
  },
  {
   "cell_type": "code",
   "execution_count": 51,
   "metadata": {},
   "outputs": [],
   "source": [
    "# df_top_200_offchain.to_csv('./citizen_house_proposals_votes.csv')"
   ]
  },
  {
   "cell_type": "code",
   "execution_count": 1,
   "metadata": {},
   "outputs": [],
   "source": [
    "import requests\n",
    "import pandas as pd\n",
    "\n",
    "# df_citizen_snapshot_proposal = pd.read_json('citizen_snapshot_proposals.json')\n",
    "\n",
    "url = \"https://hub.snapshot.org/graphql?operationName=Proposals&query=query%20Proposals%20%7B%0A%20%20proposals%20(%0A%20%20%20%20first%3A%20100%2C%0A%20%20%20%20skip%3A%200%2C%0A%20%20%20%20where%3A%20%7B%0A%20%20%20%20%20%20space_in%3A%20%5B%22citizenshouse.eth%22%5D%2C%0A%20%20%20%20%20%20state%3A%20%22closed%22%0A%20%20%20%20%7D%2C%0A%20%20%20%20orderBy%3A%20%22created%22%2C%0A%20%20%20%20orderDirection%3A%20desc%0A%20%20)%20%7B%0A%20%20%20%20id%0A%20%20%20%20title%0A%20%20%20%20body%0A%20%20%20%20choices%0A%20%20%20%20start%0A%20%20%20%20end%0A%20%20%20%20snapshot%0A%20%20%20%20state%0A%20%20%20%20author%0A%20%20%20%20space%20%7B%0A%20%20%20%20%20%20id%0A%20%20%20%20%20%20name%0A%20%20%20%20%7D%0A%20%20%7D%0A%7D\"\n",
    "response = requests.get(url)\n",
    "df_citizen_snapshot_proposal=pd.DataFrame(response.json()['data']['proposals'])\n",
    "df_citizen_snapshot_proposal=df_citizen_snapshot_proposal.rename(columns={'id':'proposal_id'})\n"
   ]
  },
  {
   "cell_type": "code",
   "execution_count": 6,
   "metadata": {},
   "outputs": [],
   "source": [
    "df_citizen_snapshot_proposal_votes = pd.DataFrame()\n",
    "\n",
    "for id in df_citizen_snapshot_proposal.proposal_id.to_list():\n",
    "    url = f\"https://hub.snapshot.org/graphql?operationName=Votes&query=query%20Votes%20%7B%0A%20%20votes%20(%0A%20%20%20%20first%3A%201000%0A%20%20%20%20skip%3A%200%0A%20%20%20%20where%3A%20%7B%0A%20%20%20%20%20%20proposal%3A%20%22{id}%22%0A%20%20%20%20%7D%0A%20%20%20%20orderBy%3A%20%22created%22%2C%0A%20%20%20%20orderDirection%3A%20desc%0A%20%20)%20%7B%0A%20%20%20%20id%0A%20%20%20%20voter%0A%20%20%20%20created%0A%20%20%20%20proposal%20%7B%0A%20%20%20%20%20%20id%0A%20%20%20%20%7D%0A%20%20%20%20choice%0A%20%20%20%20space%20%7B%0A%20%20%20%20%20%20id%0A%20%20%20%20%7D%0A%20%20%7D%0A%7D%0A\"\n",
    "    response = requests.get(url)\n",
    "    temp = response.json()['data']['votes']\n",
    "    for t in range(len(temp)):\n",
    "        temp[t]['proposal_id'] = temp[t]['proposal']['id']\n",
    "        temp[t]['space_id'] = temp[t]['space']['id']\n",
    "    temp_df = pd.DataFrame(temp)\n",
    "    df_citizen_snapshot_proposal_votes = pd.concat([df_citizen_snapshot_proposal_votes,temp_df])\n",
    "\n",
    "df_citizen_snapshot_proposal_votes = pd.merge(df_citizen_snapshot_proposal_votes,df_citizen_snapshot_proposal,how=\"left\",on='proposal_id')\n",
    "\n",
    "df_citizen_snapshot_proposal_votes['voted_choice'] = df_citizen_snapshot_proposal_votes.apply(lambda row: row['choices'][row['choice']-1], axis=1)\n",
    "df_citizen_snapshot_proposal_votes['voting_power'] = 1\n",
    "df_citizen_snapshot_proposal_votes['vote_type'] = 'citizen_house'\n"
   ]
  },
  {
   "cell_type": "code",
   "execution_count": 33,
   "metadata": {},
   "outputs": [],
   "source": [
    "df_citizen_snapshot_proposal_votes.to_csv('./citizen_house_proposals_votes2.csv')"
   ]
  },
  {
   "cell_type": "code",
   "execution_count": null,
   "metadata": {},
   "outputs": [],
   "source": []
  },
  {
   "cell_type": "markdown",
   "metadata": {},
   "source": [
    "# Token + Citizen House Summary"
   ]
  },
  {
   "cell_type": "code",
   "execution_count": 41,
   "metadata": {},
   "outputs": [],
   "source": [
    "df_summary = df_proposals_votes[['vote_type','proposal_id','title','voted_choice','voting_power']].copy()\n",
    "df_summary = df_summary[df_summary['vote_type']=='OFF_CHAIN']\n",
    "df_summary['vote_type'] = 'token_house'\n",
    "\n",
    "df_summary = pd.concat([df_summary, df_citizen_snapshot_proposal_votes[['vote_type','proposal_id','title','voted_choice','voting_power']]], ignore_index=True)\n",
    "\n",
    "df_summary = df_summary.groupby(['vote_type','proposal_id','title','voted_choice'],as_index=False).sum()\n",
    "\n",
    "df_summary = df_summary.sort_values(by=['vote_type','proposal_id', 'voting_power'],ascending=[True,True,False])\n",
    "\n",
    "df_summary = df_summary.reset_index(drop=True)"
   ]
  },
  {
   "cell_type": "code",
   "execution_count": 44,
   "metadata": {},
   "outputs": [],
   "source": [
    "df_summary.to_csv('./voting_results_summary.csv')\n"
   ]
  },
  {
   "cell_type": "markdown",
   "metadata": {},
   "source": [
    "# Farcaster"
   ]
  },
  {
   "cell_type": "code",
   "execution_count": 94,
   "metadata": {},
   "outputs": [],
   "source": [
    "addresses = df_top_200_onchain.address.to_list()"
   ]
  },
  {
   "cell_type": "code",
   "execution_count": null,
   "metadata": {},
   "outputs": [],
   "source": [
    "import requests\n",
    "\n",
    "# Replace with your actual Farcaster API base URL\n",
    "BASE_URL = \"https://hub.pinata.cloud/v1/\"\n",
    "\n",
    "# List of Ethereum addresses to check\n",
    "# addresses = [\n",
    "#     \"0xd8dA6BF26964aF9D7eEd9e03E53415D37aA96045\",\n",
    "#     \"0x5e349eca2dc61abcd9dd99ce94d04136151a09ee\",\n",
    "#     # Add more addresses as needed\n",
    "# ]\n",
    "\n",
    "# Function to get Farcaster FID from Ethereum address\n",
    "def get_farcaster_fid(address):\n",
    "    response = requests.get(f\"{BASE_URL}/verificationsByAddress\", params={\"address\": address})\n",
    "    if response.status_code == 200:\n",
    "        data = response.json()\n",
    "        if data.get(\"verifications\"):\n",
    "            return data[\"verifications\"][0][\"fid\"]\n",
    "    return None\n",
    "\n",
    "# Function to get followers of a Farcaster account\n",
    "def get_followers(fid):\n",
    "    response = requests.get(f\"{BASE_URL}/linksByFid\", params={\"fid\": fid, \"link_type\": \"follow\"})\n",
    "    if response.status_code == 200:\n",
    "        data = response.json()\n",
    "        return [msg[\"data\"][\"linkBody\"][\"targetFid\"] for msg in data.get(\"messages\", [])]\n",
    "    return []\n",
    "\n",
    "# Function to get followings of a Farcaster account\n",
    "def get_followings(fid):\n",
    "    response = requests.get(f\"{BASE_URL}/linksByTargetFid\", params={\"target_fid\": fid, \"link_type\": \"follow\"})\n",
    "    if response.status_code == 200:\n",
    "        data = response.json()\n",
    "        return [msg[\"data\"][\"fid\"] for msg in data.get(\"messages\", [])]\n",
    "    return []\n",
    "\n",
    "# Main script\n",
    "farcaster_accounts = {}\n",
    "\n",
    "for address in addresses:\n",
    "    fid = get_farcaster_fid(address)\n",
    "    if fid:\n",
    "        farcaster_accounts[address] = {\n",
    "            \"fid\": fid,\n",
    "            \"followers\": get_followers(fid),\n",
    "            \"followings\": get_followings(fid)\n",
    "        }\n",
    "    else:\n",
    "        farcaster_accounts[address] = None\n",
    "\n",
    "# Print results\n",
    "for address, data in farcaster_accounts.items():\n",
    "    if data:\n",
    "        print(f\"Address: {address} (FID: {data['fid']})\")\n",
    "        print(f\"Followers FIDs: {data['followers']}\")\n",
    "        print(f\"Followings FIDs: {data['followings']}\")\n",
    "    else:\n",
    "        print(f\"Address: {address} has no Farcaster account.\")\n"
   ]
  },
  {
   "cell_type": "code",
   "execution_count": 98,
   "metadata": {},
   "outputs": [],
   "source": [
    "for address, data in farcaster_accounts.items():\n",
    "    if data:\n",
    "        print(f\"Address: {address} (FID: {data['fid']})\")\n",
    "        print(f\"Followers FIDs: {data['followers']}\")\n",
    "        print(f\"Followings FIDs: {data['followings']}\")\n",
    "    # else:\n",
    "    #     print(f\"Address: {address} has no Farcaster account.\")"
   ]
  },
  {
   "cell_type": "code",
   "execution_count": null,
   "metadata": {},
   "outputs": [],
   "source": [
    "# https://crimson-tiny-urial-232.mypinata.cloud\n",
    "# curl --request GET \\\n",
    "#   --url 'https://hub.pinata.cloud/v1/castsByFid?fid=6023&pageSize=10&reverse=true'\n"
   ]
  }
 ],
 "metadata": {
  "kernelspec": {
   "display_name": "op_concen",
   "language": "python",
   "name": "python3"
  },
  "language_info": {
   "codemirror_mode": {
    "name": "ipython",
    "version": 3
   },
   "file_extension": ".py",
   "mimetype": "text/x-python",
   "name": "python",
   "nbconvert_exporter": "python",
   "pygments_lexer": "ipython3",
   "version": "3.12.3"
  }
 },
 "nbformat": 4,
 "nbformat_minor": 2
}
