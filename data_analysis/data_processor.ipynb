{
 "cells": [
  {
   "cell_type": "markdown",
   "metadata": {},
   "source": [
    "# Token House Votes"
   ]
  },
  {
   "cell_type": "code",
   "execution_count": null,
   "metadata": {},
   "outputs": [],
   "source": [
    "import pandas as pd"
   ]
  },
  {
   "cell_type": "code",
   "execution_count": 2,
   "metadata": {},
   "outputs": [],
   "source": [
    "df_Top1000Delegates = pd.read_csv(\"./Top1000Delegates.csv\")\n",
    "df_vote_cast = pd.read_csv(\"./vote_cast.csv\")\n",
    "df_proposals = pd.read_csv(\"./proposals.csv\")"
   ]
  },
  {
   "cell_type": "code",
   "execution_count": null,
   "metadata": {},
   "outputs": [],
   "source": [
    "df_proposals_votes = pd.read_csv(\"./raw_data/2024-06-28_optimism_proposals_votes.csv\")"
   ]
  },
  {
   "cell_type": "code",
   "execution_count": 15,
   "metadata": {},
   "outputs": [],
   "source": [
    "df_onchain = df_proposals_votes.query('vote_type == \"ON_CHAIN\"').reset_index(drop=True)\n",
    "\n",
    "# Step 1: Sort the DataFrame by 'proposal_id' and 'voting_power' in descending order\n",
    "df_sorted = df_onchain.sort_values(by=['proposal_id', 'voting_power'], ascending=[True, False])\n",
    "\n",
    "# Step 2: Group by 'proposal_id' and select the top 200 for each group\n",
    "df_top_200 = df_sorted.groupby('proposal_id').head(200).reset_index(drop=True)\n",
    "\n",
    "df_top_200['reason'] = df_top_200['reason'].fillna('NA')"
   ]
  },
  {
   "cell_type": "code",
   "execution_count": 21,
   "metadata": {},
   "outputs": [],
   "source": [
    "df_top_200.to_csv(\"./proposals_votes.csv\")"
   ]
  },
  {
   "cell_type": "markdown",
   "metadata": {},
   "source": [
    "# Citizen House Votes"
   ]
  },
  {
   "cell_type": "code",
   "execution_count": 80,
   "metadata": {},
   "outputs": [],
   "source": [
    "import requests\n",
    "\n",
    "# df_citizen_snapshot_proposal = pd.read_json('citizen_snapshot_proposals.json')\n",
    "\n",
    "url = \"https://hub.snapshot.org/graphql?operationName=Proposals&query=query%20Proposals%20%7B%0A%20%20proposals%20(%0A%20%20%20%20first%3A%20100%2C%0A%20%20%20%20skip%3A%200%2C%0A%20%20%20%20where%3A%20%7B%0A%20%20%20%20%20%20space_in%3A%20%5B%22citizenshouse.eth%22%5D%2C%0A%20%20%20%20%20%20state%3A%20%22closed%22%0A%20%20%20%20%7D%2C%0A%20%20%20%20orderBy%3A%20%22created%22%2C%0A%20%20%20%20orderDirection%3A%20desc%0A%20%20)%20%7B%0A%20%20%20%20id%0A%20%20%20%20title%0A%20%20%20%20body%0A%20%20%20%20choices%0A%20%20%20%20start%0A%20%20%20%20end%0A%20%20%20%20snapshot%0A%20%20%20%20state%0A%20%20%20%20author%0A%20%20%20%20space%20%7B%0A%20%20%20%20%20%20id%0A%20%20%20%20%20%20name%0A%20%20%20%20%7D%0A%20%20%7D%0A%7D\"\n",
    "response = requests.get(url)\n",
    "df_citizen_snapshot_proposal=pd.DataFrame(response.json()['data']['proposals'])\n",
    "df_citizen_snapshot_proposal=df_citizen_snapshot_proposal.rename(columns={'id':'proposal_id'})\n"
   ]
  },
  {
   "cell_type": "code",
   "execution_count": 84,
   "metadata": {},
   "outputs": [],
   "source": [
    "df_citizen_snapshot_proposal_votes = pd.DataFrame()\n",
    "\n",
    "for id in df_citizen_snapshot_proposal.proposal_id.to_list():\n",
    "    url = f\"https://hub.snapshot.org/graphql?operationName=Votes&query=query%20Votes%20%7B%0A%20%20votes%20(%0A%20%20%20%20first%3A%201000%0A%20%20%20%20skip%3A%200%0A%20%20%20%20where%3A%20%7B%0A%20%20%20%20%20%20proposal%3A%20%22{id}%22%0A%20%20%20%20%7D%0A%20%20%20%20orderBy%3A%20%22created%22%2C%0A%20%20%20%20orderDirection%3A%20desc%0A%20%20)%20%7B%0A%20%20%20%20id%0A%20%20%20%20voter%0A%20%20%20%20created%0A%20%20%20%20proposal%20%7B%0A%20%20%20%20%20%20id%0A%20%20%20%20%7D%0A%20%20%20%20choice%0A%20%20%20%20space%20%7B%0A%20%20%20%20%20%20id%0A%20%20%20%20%7D%0A%20%20%7D%0A%7D%0A\"\n",
    "    response = requests.get(url)\n",
    "    temp = response.json()['data']['votes']\n",
    "    for t in range(len(temp)):\n",
    "        temp[t]['proposal_id'] = temp[t]['proposal']['id']\n",
    "        temp[t]['space_id'] = temp[t]['space']['id']\n",
    "    temp_df = pd.DataFrame(temp)\n",
    "    df_citizen_snapshot_proposal_votes = pd.concat([df_citizen_snapshot_proposal_votes,temp_df])\n",
    "\n",
    "df_citizen_snapshot_proposal_votes = pd.merge(df_citizen_snapshot_proposal_votes,df_citizen_snapshot_proposal,how=\"left\",on='proposal_id')\n"
   ]
  },
  {
   "cell_type": "code",
   "execution_count": 85,
   "metadata": {},
   "outputs": [],
   "source": [
    "df_citizen_snapshot_proposal_votes.to_csv('./citizen_snapshot_proposal_votes.csv')"
   ]
  }
 ],
 "metadata": {
  "kernelspec": {
   "display_name": "op_concen",
   "language": "python",
   "name": "python3"
  },
  "language_info": {
   "codemirror_mode": {
    "name": "ipython",
    "version": 3
   },
   "file_extension": ".py",
   "mimetype": "text/x-python",
   "name": "python",
   "nbconvert_exporter": "python",
   "pygments_lexer": "ipython3",
   "version": "3.12.3"
  }
 },
 "nbformat": 4,
 "nbformat_minor": 2
}
