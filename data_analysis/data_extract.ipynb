{
 "cells": [
  {
   "cell_type": "code",
   "execution_count": 1,
   "metadata": {},
   "outputs": [],
   "source": [
    "from dune_client.client import DuneClient\n",
    "import json\n",
    "from dotenv import load_dotenv\n",
    "import os\n",
    "\n",
    "# Load and read environment variables from .env file\n",
    "load_dotenv()\n",
    "dune_api_key = os.getenv(\"DUNE_API_KEY\")\n",
    "\n",
    "dune = DuneClient(dune_api_key)\n"
   ]
  },
  {
   "cell_type": "code",
   "execution_count": 2,
   "metadata": {},
   "outputs": [],
   "source": [
    "# query_result = dune.get_latest_result(871360)\n",
    "df_Top1000Delegates = dune.get_latest_result_dataframe(871360)\n",
    "df_Top1000Delegates.to_csv(\"./Top1000Delegates.csv\")\n"
   ]
  },
  {
   "cell_type": "code",
   "execution_count": 2,
   "metadata": {},
   "outputs": [],
   "source": [
    "df_vote_cast = dune.get_latest_result_dataframe(3848309)\n",
    "df_vote_cast.to_csv(\"./vote_cast.csv\")"
   ]
  },
  {
   "cell_type": "code",
   "execution_count": 16,
   "metadata": {},
   "outputs": [],
   "source": [
    "df_proposals = dune.get_latest_result_dataframe(3866186)\n",
    "df_proposals.to_csv(\"./proposals.csv\")"
   ]
  },
  {
   "cell_type": "code",
   "execution_count": null,
   "metadata": {},
   "outputs": [],
   "source": [
    "# import requests\n",
    "\n",
    "# url = \"https://api.dune.com/api/v1/query/{queryId}\"\n",
    "\n",
    "# headers = {\"X-DUNE-API-KEY\": dune_api_key}\n",
    "\n",
    "# response = requests.request(\"GET\", url, headers=headers)\n",
    "\n",
    "# print(response.text)"
   ]
  }
 ],
 "metadata": {
  "kernelspec": {
   "display_name": "op_concen",
   "language": "python",
   "name": "python3"
  },
  "language_info": {
   "codemirror_mode": {
    "name": "ipython",
    "version": 3
   },
   "file_extension": ".py",
   "mimetype": "text/x-python",
   "name": "python",
   "nbconvert_exporter": "python",
   "pygments_lexer": "ipython3",
   "version": "3.12.3"
  }
 },
 "nbformat": 4,
 "nbformat_minor": 2
}
