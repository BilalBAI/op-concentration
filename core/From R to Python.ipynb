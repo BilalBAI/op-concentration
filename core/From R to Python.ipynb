{
 "cells": [
  {
   "cell_type": "code",
   "execution_count": 4,
   "id": "d24db2bb",
   "metadata": {
    "ExecuteTime": {
     "end_time": "2024-10-12T11:24:58.457314Z",
     "start_time": "2024-10-12T11:24:58.451275Z"
    }
   },
   "outputs": [],
   "source": [
    "#pip install rpy2\n"
   ]
  },
  {
   "cell_type": "code",
   "execution_count": 103,
   "id": "b326c08c",
   "metadata": {
    "ExecuteTime": {
     "end_time": "2024-10-12T14:02:29.610870Z",
     "start_time": "2024-10-12T14:02:29.555719Z"
    }
   },
   "outputs": [],
   "source": [
    "import rpy2.robjects as ro\n",
    "\n",
    "# 载入 R 脚本文件\n",
    "ro.r['source']('/Users/yangyujie/hku-phd/year1 sem2/Blockchain/function.R') \n",
    "\n",
    "proposal_filter = ro.globalenv['proposal_filter']\n",
    "final_voting_result = ro.globalenv['final_voting_result']\n",
    "proposal_result_merge = ro.globalenv['proposal_result_merge']\n",
    "Similar_matriix = ro.globalenv['Similar_matriix']\n",
    "Community_detection = ro.globalenv['Community_detection']\n",
    "Logistic_reg_single = ro.globalenv['Logistic_reg_single']\n",
    "Logistic_reg_multiple = ro.globalenv['Logistic_reg_multiple']\n",
    "CT_Logistic_reg_single = ro.globalenv['CT_Logistic_reg_single']\n",
    "CT_fun = ro.globalenv['CT_fun']\n",
    "CT_Logistic_reg_multiple = ro.globalenv['CT_Logistic_reg_multiple']\n",
    "Centrality_statistics = ro.globalenv['Centrality_statistics']\n",
    "\n"
   ]
  },
  {
   "cell_type": "code",
   "execution_count": 9,
   "id": "9d15917d",
   "metadata": {
    "ExecuteTime": {
     "end_time": "2024-10-12T11:53:55.343280Z",
     "start_time": "2024-10-12T11:53:53.685156Z"
    }
   },
   "outputs": [],
   "source": [
    "import pandas as pd\n",
    "\n",
    "# 读取 CSV 文件\n",
    "prop_token_t = pd.read_csv('/Users/yangyujie/hku-phd/year1 sem2/Blockchain/prop_token_t.csv')\n",
    "prop_cit_t = pd.read_csv('/Users/yangyujie/hku-phd/year1 sem2/Blockchain/prop_cit_t.csv')\n",
    "voting_res_filter = pd.read_csv('/Users/yangyujie/hku-phd/year1 sem2/Blockchain/voting_res_filter.csv')\n",
    "\n"
   ]
  },
  {
   "cell_type": "code",
   "execution_count": 15,
   "id": "4154a750",
   "metadata": {
    "ExecuteTime": {
     "end_time": "2024-10-12T11:56:57.283369Z",
     "start_time": "2024-10-12T11:56:57.117121Z"
    }
   },
   "outputs": [],
   "source": [
    "import rpy2.robjects as ro\n",
    "import rpy2.robjects.pandas2ri as pandas2ri\n",
    "import pandas as pd\n",
    "\n",
    "# 激活 pandas-to-R 转换\n",
    "pandas2ri.activate()\n",
    "\n",
    "# 创建一个 pandas DataFrame\n",
    "\n",
    "# 将 pandas DataFrame 转换为 R data.frame\n",
    "prop_token_t = pandas2ri.py2rpy(prop_token_t)\n",
    "prop_cit_t = pandas2ri.py2rpy(prop_cit_t)\n",
    "voting_res_filter = pandas2ri.py2rpy(voting_res_filter)\n",
    "\n",
    "# 现在你可以在 R 中使用这个数据框\n",
    "ro.globalenv['prop_token_t'] = prop_token_t  # 将转换后的 R 对象传递到 R 环境中\n",
    "ro.globalenv['prop_cit_t'] = prop_cit_t  \n",
    "ro.globalenv['voting_res_filter'] = voting_res_filter  \n",
    "\n",
    "\n"
   ]
  },
  {
   "cell_type": "code",
   "execution_count": 17,
   "id": "8ba51268",
   "metadata": {
    "ExecuteTime": {
     "end_time": "2024-10-12T11:57:34.154697Z",
     "start_time": "2024-10-12T11:57:33.982969Z"
    }
   },
   "outputs": [],
   "source": [
    "\n",
    "#过滤掉proposal_csv中参与次数较少的address\n",
    "prop_token_filter_t = proposal_filter(prop_token_t,5)\n",
    "prop_cit_filter_t = proposal_filter(prop_cit_t,5)\n",
    "\n",
    "voting_res_filter_final_t = final_voting_result(voting_res_filter)\n",
    "\n",
    "# 整理最终投票结果，并把它加到原数据中\n",
    "#因为voting res filter里面每个一个proposal_id有两行数据，分别是For的票数和Ag的票数，现在需要比较大小，得出一个最终结论。\n",
    "\n",
    "prop_token_filter_add_t=proposal_result_merge(voting_res_filter_final_t,prop_token_filter_t) \n",
    "\n",
    "prop_cit_filter_add_t=proposal_result_merge(voting_res_filter_final_t,prop_cit_filter_t)\n"
   ]
  },
  {
   "cell_type": "code",
   "execution_count": 24,
   "id": "0fa1b4ce",
   "metadata": {
    "ExecuteTime": {
     "end_time": "2024-10-12T12:09:58.915340Z",
     "start_time": "2024-10-12T12:07:59.249587Z"
    }
   },
   "outputs": [],
   "source": [
    "# 计算相似性矩阵\n",
    "import random\n",
    "M_token_tranc_t=Similar_matriix(prop_token_filter_add_t,3)\n",
    "M_cit_tranc_t=Similar_matriix(prop_cit_filter_add_t,3)\n"
   ]
  },
  {
   "cell_type": "code",
   "execution_count": 55,
   "id": "4208442e",
   "metadata": {
    "ExecuteTime": {
     "end_time": "2024-10-12T12:32:34.226718Z",
     "start_time": "2024-10-12T12:32:24.735682Z"
    }
   },
   "outputs": [],
   "source": [
    "# 进行网络聚类\n",
    "random.seed(1)\n",
    "community_token_t = Community_detection(M_token_tranc_t,0.1,3)\n",
    "community_cit_t = Community_detection(M_cit_tranc_t,0.1,3)\n",
    "\n"
   ]
  },
  {
   "cell_type": "code",
   "execution_count": 63,
   "id": "ecbd9a2b",
   "metadata": {
    "ExecuteTime": {
     "end_time": "2024-10-12T12:35:30.650814Z",
     "start_time": "2024-10-12T12:35:30.613269Z"
    },
    "scrolled": false
   },
   "outputs": [
    {
     "name": "stdout",
     "output_type": "stream",
     "text": [
      "$community\n",
      "IGRAPH clustering multi level, groups: 48, mod: 0.1\n",
      "+ groups:\n",
      "  $`1`\n",
      "  [1] 1\n",
      "  \n",
      "  $`2`\n",
      "  [1] 2\n",
      "  \n",
      "  $`3`\n",
      "  [1] 3\n",
      "  \n",
      "  $`4`\n",
      "  + ... omitted several groups/vertices\n",
      "\n",
      "$membership\n",
      "  [1]  1  2  3  4  5  5  5  5  5  5  5  6  5  5  7  8  9 10 11 12  6  6 13 14 15\n",
      " [26] 16 17 18 19 16  5 20  6  6  6  6  6 21 22  6 23  6 24 25  6 26  6 27  6 28\n",
      " [51]  6 29  6 30  6 31  6  6  6 32  6  6 27  6  6  6  6 16 16  6  6 33  6  6 34\n",
      " [76]  6  6  6 33  6 16  6 35  6 36  6 16 37  6  6 38  6 39  6  6 16 40  6  6 22\n",
      "[101]  6  6  6 22 41 16  6 42  6  6 16  6  6  6 16 16 43  6 16  6 43 22 44  6  6\n",
      "[126] 45  6  6  6  6  6  6  6  6  6 16  6  6  6  6  6  6  6  6  6  6  6  6  6  6\n",
      "[151] 46  6  6  6  6  6  6  6  6  6  6  6  6  6  6  6  6  6  6  6  6  6  6  6  6\n",
      "[176]  6  6  6  6  6  6  6  6  6 47  6  6  6  6  6  6  6 37  6  6 48  6  6  6  6\n",
      "[201]  6  6  6  6  4  4 16 22  4 22  5 16  5  4  4  4  5  5  5  4 41  4  4  5  4\n",
      "[226]  4 16  4  4  4  4  5  4  4  4  5  4  4  5  4  5  4  6  5  4  4  4  4  4  4\n",
      "[251]  4  4  4  5 22  5  4 16  5  5  5  4  4  4  5  4  4  4  4  4 16  5 41 16 16\n",
      "[276] 41 16 16 16 16 16 16 41 41 41  4 41  5  5  5  5  5  5  5 22  5  5  4  6  4\n",
      "[301]  4  4  5  5  4  4  5  4  5  4  5  4  5  5  5  4  5 22  4  5  4  4  4  5  5\n",
      "[326]  4  4  5  4  4  5  4  4  4  5  4  4  5  5  5  4  5  4  5  4  4  4  5 22  6\n",
      "[351] 22 22  6  6 22 22 22 22 22 22 22 22 22  6 22 22 22 22 22 22 22 22 22 22 22\n",
      "[376]  5 22 22 22 22 22 22 22 22  6 22 22  5  4  5  5  5  5  5  4  4  5  4  4  5\n",
      "[401]  5  4  5  4  4  4  4  4  5  5  4  5  4  5  4  6  5  4  5  5  5  5  5  5  5\n",
      "[426]  5  5  5  5  5  5  5  5  5  5  5  5  5  5  5  5  5  5  5  5  5  5  5  5  5\n",
      "[451] 41  6  6  5  5  5  5  5  5  5  5  5  5  5  5  5  5  5  5  5  5  5  5  5  5\n",
      "[476]  5  5 41 41  5  5  5  5  5  5  5  5  5  5  5  5  5  5  5  5  5  5  5  5  5\n",
      "[501]  5  5  6  6\n",
      "\n",
      "\n"
     ]
    }
   ],
   "source": [
    "print(community_token_t)"
   ]
  },
  {
   "cell_type": "code",
   "execution_count": 62,
   "id": "a31aa5f8",
   "metadata": {
    "ExecuteTime": {
     "end_time": "2024-10-12T12:35:23.496392Z",
     "start_time": "2024-10-12T12:35:23.470564Z"
    }
   },
   "outputs": [
    {
     "data": {
      "text/plain": [
       "array([ 1.,  2.,  3.,  4.,  5.,  5.,  5.,  5.,  5.,  5.,  5.,  6.,  5.,\n",
       "        5.,  7.,  8.,  9., 10., 11., 12.,  6.,  6., 13., 14., 15., 16.,\n",
       "       17., 18., 19., 16.,  5., 20.,  6.,  6.,  6.,  6.,  6., 21., 22.,\n",
       "        6., 23.,  6., 24., 25.,  6., 26.,  6., 27.,  6., 28.,  6., 29.,\n",
       "        6., 30.,  6., 31.,  6.,  6.,  6., 32.,  6.,  6., 27.,  6.,  6.,\n",
       "        6.,  6., 16., 16.,  6.,  6., 33.,  6.,  6., 34.,  6.,  6.,  6.,\n",
       "       33.,  6., 16.,  6., 35.,  6., 36.,  6., 16., 37.,  6.,  6., 38.,\n",
       "        6., 39.,  6.,  6., 16., 40.,  6.,  6., 22.,  6.,  6.,  6., 22.,\n",
       "       41., 16.,  6., 42.,  6.,  6., 16.,  6.,  6.,  6., 16., 16., 43.,\n",
       "        6., 16.,  6., 43., 22., 44.,  6.,  6., 45.,  6.,  6.,  6.,  6.,\n",
       "        6.,  6.,  6.,  6.,  6., 16.,  6.,  6.,  6.,  6.,  6.,  6.,  6.,\n",
       "        6.,  6.,  6.,  6.,  6.,  6.,  6., 46.,  6.,  6.,  6.,  6.,  6.,\n",
       "        6.,  6.,  6.,  6.,  6.,  6.,  6.,  6.,  6.,  6.,  6.,  6.,  6.,\n",
       "        6.,  6.,  6.,  6.,  6.,  6.,  6.,  6.,  6.,  6.,  6.,  6.,  6.,\n",
       "        6.,  6., 47.,  6.,  6.,  6.,  6.,  6.,  6.,  6., 37.,  6.,  6.,\n",
       "       48.,  6.,  6.,  6.,  6.,  6.,  6.,  6.,  6.,  4.,  4., 16., 22.,\n",
       "        4., 22.,  5., 16.,  5.,  4.,  4.,  4.,  5.,  5.,  5.,  4., 41.,\n",
       "        4.,  4.,  5.,  4.,  4., 16.,  4.,  4.,  4.,  4.,  5.,  4.,  4.,\n",
       "        4.,  5.,  4.,  4.,  5.,  4.,  5.,  4.,  6.,  5.,  4.,  4.,  4.,\n",
       "        4.,  4.,  4.,  4.,  4.,  4.,  5., 22.,  5.,  4., 16.,  5.,  5.,\n",
       "        5.,  4.,  4.,  4.,  5.,  4.,  4.,  4.,  4.,  4., 16.,  5., 41.,\n",
       "       16., 16., 41., 16., 16., 16., 16., 16., 16., 41., 41., 41.,  4.,\n",
       "       41.,  5.,  5.,  5.,  5.,  5.,  5.,  5., 22.,  5.,  5.,  4.,  6.,\n",
       "        4.,  4.,  4.,  5.,  5.,  4.,  4.,  5.,  4.,  5.,  4.,  5.,  4.,\n",
       "        5.,  5.,  5.,  4.,  5., 22.,  4.,  5.,  4.,  4.,  4.,  5.,  5.,\n",
       "        4.,  4.,  5.,  4.,  4.,  5.,  4.,  4.,  4.,  5.,  4.,  4.,  5.,\n",
       "        5.,  5.,  4.,  5.,  4.,  5.,  4.,  4.,  4.,  5., 22.,  6., 22.,\n",
       "       22.,  6.,  6., 22., 22., 22., 22., 22., 22., 22., 22., 22.,  6.,\n",
       "       22., 22., 22., 22., 22., 22., 22., 22., 22., 22., 22.,  5., 22.,\n",
       "       22., 22., 22., 22., 22., 22., 22.,  6., 22., 22.,  5.,  4.,  5.,\n",
       "        5.,  5.,  5.,  5.,  4.,  4.,  5.,  4.,  4.,  5.,  5.,  4.,  5.,\n",
       "        4.,  4.,  4.,  4.,  4.,  5.,  5.,  4.,  5.,  4.,  5.,  4.,  6.,\n",
       "        5.,  4.,  5.,  5.,  5.,  5.,  5.,  5.,  5.,  5.,  5.,  5.,  5.,\n",
       "        5.,  5.,  5.,  5.,  5.,  5.,  5.,  5.,  5.,  5.,  5.,  5.,  5.,\n",
       "        5.,  5.,  5.,  5.,  5.,  5.,  5.,  5., 41.,  6.,  6.,  5.,  5.,\n",
       "        5.,  5.,  5.,  5.,  5.,  5.,  5.,  5.,  5.,  5.,  5.,  5.,  5.,\n",
       "        5.,  5.,  5.,  5.,  5.,  5.,  5.,  5.,  5., 41., 41.,  5.,  5.,\n",
       "        5.,  5.,  5.,  5.,  5.,  5.,  5.,  5.,  5.,  5.,  5.,  5.,  5.,\n",
       "        5.,  5.,  5.,  5.,  5.,  5.,  5.,  5.,  6.,  6.])"
      ]
     },
     "execution_count": 62,
     "metadata": {},
     "output_type": "execute_result"
    }
   ],
   "source": [
    "\n",
    "community_token_t[1]\n",
    "#对应membership，即分组的信息\n"
   ]
  },
  {
   "cell_type": "code",
   "execution_count": 66,
   "id": "c8b5f6c2",
   "metadata": {
    "ExecuteTime": {
     "end_time": "2024-10-12T12:36:29.820666Z",
     "start_time": "2024-10-12T12:36:29.804054Z"
    }
   },
   "outputs": [
    {
     "data": {
      "text/plain": [
       "array([1.56471690e+47, 1.14917774e+48, 4.52471620e+47, ...,\n",
       "       1.41356174e+48, 1.39230407e+48, 1.11844197e+48])"
      ]
     },
     "execution_count": 66,
     "metadata": {},
     "output_type": "execute_result"
    }
   ],
   "source": [
    "prop_token_filter_add_t[2] #对应unique(address)即token house中的address"
   ]
  },
  {
   "cell_type": "code",
   "execution_count": 68,
   "id": "ddaee185",
   "metadata": {
    "ExecuteTime": {
     "end_time": "2024-10-12T12:37:25.034114Z",
     "start_time": "2024-10-12T12:37:25.008385Z"
    }
   },
   "outputs": [],
   "source": [
    "# 把分组信息赋予Louvain_member \n",
    "Louvain_member_token_t = community_token_t[1]\n",
    "\n",
    "Louvain_member_cit_t = community_cit_t[1]\n",
    "\n",
    "#Group_token_t =data.frame(address = unique(prop_token_filter_add_t[2]),group = Louvain_member_token_t)"
   ]
  },
  {
   "cell_type": "code",
   "execution_count": 73,
   "id": "65683c0c",
   "metadata": {
    "ExecuteTime": {
     "end_time": "2024-10-12T12:40:29.649682Z",
     "start_time": "2024-10-12T12:40:28.349834Z"
    }
   },
   "outputs": [],
   "source": [
    "#逻辑回归\n",
    "import matplotlib.pyplot as plt\n",
    "log_eff_token_t=Logistic_reg_single(prop_token_filter_add_t,Louvain_member_token_t,False)\n",
    "ad_log_eff_token_t=Logistic_reg_single(prop_token_filter_add_t,Louvain_member_token_t,True)\n",
    "\n",
    "\n",
    "log_eff_cit_t=Logistic_reg_single(prop_cit_filter_add_t,Louvain_member_cit_t,False)\n",
    "ad_log_eff_cit_t=Logistic_reg_single(prop_cit_filter_add_t,Louvain_member_cit_t,True)\n"
   ]
  },
  {
   "cell_type": "code",
   "execution_count": 85,
   "id": "de7cb697",
   "metadata": {
    "ExecuteTime": {
     "end_time": "2024-10-12T12:47:01.329125Z",
     "start_time": "2024-10-12T12:47:01.320341Z"
    }
   },
   "outputs": [
    {
     "data": {
      "text/plain": [
       "88.85544276646738"
      ]
     },
     "execution_count": 85,
     "metadata": {},
     "output_type": "execute_result"
    }
   ],
   "source": [
    "import pandas as pd\n",
    "import numpy as np\n",
    "ad_log_eff_token_t = ad_log_eff_token_t[~np.isnan(ad_log_eff_token_t)]\n",
    "np.var(ad_log_eff_token_t)\n",
    "\n"
   ]
  },
  {
   "cell_type": "code",
   "execution_count": 99,
   "id": "07552eae",
   "metadata": {
    "ExecuteTime": {
     "end_time": "2024-10-12T13:51:24.493342Z",
     "start_time": "2024-10-12T13:51:24.465707Z"
    }
   },
   "outputs": [],
   "source": [
    "#print(ad_log_eff_token_t)"
   ]
  },
  {
   "cell_type": "code",
   "execution_count": 87,
   "id": "c5f69ac5",
   "metadata": {
    "ExecuteTime": {
     "end_time": "2024-10-12T12:47:20.343973Z",
     "start_time": "2024-10-12T12:47:20.329432Z"
    }
   },
   "outputs": [
    {
     "data": {
      "text/plain": [
       "176.12395628252293"
      ]
     },
     "execution_count": 87,
     "metadata": {},
     "output_type": "execute_result"
    }
   ],
   "source": [
    "log_eff_cit_t = log_eff_cit_t[~np.isnan(log_eff_cit_t)]\n",
    "np.var(log_eff_cit_t)"
   ]
  },
  {
   "cell_type": "code",
   "execution_count": 90,
   "id": "0377b799",
   "metadata": {
    "ExecuteTime": {
     "end_time": "2024-10-12T12:50:40.731723Z",
     "start_time": "2024-10-12T12:50:40.480519Z"
    }
   },
   "outputs": [],
   "source": [
    "log_eff_both_t=Logistic_reg_multiple(prop_cit_filter_add_t,prop_token_filter_add_t)"
   ]
  },
  {
   "cell_type": "code",
   "execution_count": 91,
   "id": "636cf64a",
   "metadata": {
    "ExecuteTime": {
     "end_time": "2024-10-12T12:50:54.347688Z",
     "start_time": "2024-10-12T12:50:54.326637Z"
    }
   },
   "outputs": [
    {
     "data": {
      "text/plain": [
       "410.59027702435617"
      ]
     },
     "execution_count": 91,
     "metadata": {},
     "output_type": "execute_result"
    }
   ],
   "source": [
    "log_eff_both_t = log_eff_both_t[~np.isnan(log_eff_both_t)]\n",
    "np.var(log_eff_both_t)"
   ]
  },
  {
   "cell_type": "code",
   "execution_count": 93,
   "id": "5ea0f401",
   "metadata": {
    "ExecuteTime": {
     "end_time": "2024-10-12T12:51:47.227640Z",
     "start_time": "2024-10-12T12:51:39.280528Z"
    }
   },
   "outputs": [],
   "source": [
    "#反事实逻辑回归\n",
    "log_eff_token_rev_t = CT_Logistic_reg_single(prop_token_filter_t,Louvain_member_token_t,False)\n",
    "\n",
    "ad_log_eff_token_rev_t = CT_Logistic_reg_single(prop_token_filter_t,Louvain_member_token_t,True)\n"
   ]
  },
  {
   "cell_type": "code",
   "execution_count": 94,
   "id": "e282283b",
   "metadata": {
    "ExecuteTime": {
     "end_time": "2024-10-12T12:51:54.549791Z",
     "start_time": "2024-10-12T12:51:54.530811Z"
    }
   },
   "outputs": [
    {
     "data": {
      "text/plain": [
       "671.0077418387785"
      ]
     },
     "execution_count": 94,
     "metadata": {},
     "output_type": "execute_result"
    }
   ],
   "source": [
    "log_eff_token_rev_t = log_eff_token_rev_t[~np.isnan(log_eff_token_rev_t)]\n",
    "np.var(log_eff_token_rev_t)"
   ]
  },
  {
   "cell_type": "code",
   "execution_count": 95,
   "id": "e0b24d7e",
   "metadata": {
    "ExecuteTime": {
     "end_time": "2024-10-12T12:52:33.164102Z",
     "start_time": "2024-10-12T12:52:33.146508Z"
    }
   },
   "outputs": [
    {
     "data": {
      "text/plain": [
       "71.16563206773733"
      ]
     },
     "execution_count": 95,
     "metadata": {},
     "output_type": "execute_result"
    }
   ],
   "source": [
    "ad_log_eff_token_rev_t = ad_log_eff_token_rev_t[~np.isnan(ad_log_eff_token_rev_t)]\n",
    "np.var(ad_log_eff_token_rev_t)"
   ]
  },
  {
   "cell_type": "code",
   "execution_count": 102,
   "id": "a2bc99eb",
   "metadata": {
    "ExecuteTime": {
     "end_time": "2024-10-12T13:57:11.084656Z",
     "start_time": "2024-10-12T13:57:10.763201Z"
    }
   },
   "outputs": [],
   "source": [
    "log_eff_cit_rev_t = CT_Logistic_reg_single(prop_cit_filter_t,Louvain_member_cit_t,False)\n",
    "\n",
    "ad_log_eff_cit_rev_t = CT_Logistic_reg_single(prop_cit_filter_t,Louvain_member_cit_t,True)\n"
   ]
  },
  {
   "cell_type": "code",
   "execution_count": null,
   "id": "627f8c8f",
   "metadata": {
    "ExecuteTime": {
     "end_time": "2024-10-12T13:02:39.466212Z",
     "start_time": "2024-10-12T13:02:38.966563Z"
    }
   },
   "outputs": [],
   "source": [
    "log_eff_both_rev_t = CT_Logistic_reg_multiple(prop_token_filter_t,prop_cit_filter_t)"
   ]
  },
  {
   "cell_type": "code",
   "execution_count": 104,
   "id": "165fd445",
   "metadata": {
    "ExecuteTime": {
     "end_time": "2024-10-12T14:02:33.044666Z",
     "start_time": "2024-10-12T14:02:32.989582Z"
    },
    "scrolled": true
   },
   "outputs": [
    {
     "name": "stdout",
     "output_type": "stream",
     "text": [
      "                   Statistic      Value\n",
      "1                   Variance 71.3117627\n",
      "2                   Skewness  0.9281939\n",
      "3                   Kurtosis  6.9952081\n",
      "4           Gini Coefficient -0.2031991\n",
      "5 Herfindahl-Hirschman Index  0.2037675\n",
      "6                    Entropy  1.5225515\n",
      "7                         CV -0.4127996\n",
      "\n"
     ]
    }
   ],
   "source": [
    "statistics_table = Centrality_statistics(ad_log_eff_token_rev_t)\n",
    "print(statistics_table)"
   ]
  },
  {
   "cell_type": "code",
   "execution_count": null,
   "id": "22519691",
   "metadata": {},
   "outputs": [],
   "source": []
  }
 ],
 "metadata": {
  "kernelspec": {
   "display_name": "Python 3 (ipykernel)",
   "language": "python",
   "name": "python3"
  },
  "language_info": {
   "codemirror_mode": {
    "name": "ipython",
    "version": 3
   },
   "file_extension": ".py",
   "mimetype": "text/x-python",
   "name": "python",
   "nbconvert_exporter": "python",
   "pygments_lexer": "ipython3",
   "version": "3.9.12"
  },
  "toc": {
   "base_numbering": 1,
   "nav_menu": {},
   "number_sections": true,
   "sideBar": true,
   "skip_h1_title": false,
   "title_cell": "Table of Contents",
   "title_sidebar": "Contents",
   "toc_cell": false,
   "toc_position": {},
   "toc_section_display": true,
   "toc_window_display": false
  }
 },
 "nbformat": 4,
 "nbformat_minor": 5
}
